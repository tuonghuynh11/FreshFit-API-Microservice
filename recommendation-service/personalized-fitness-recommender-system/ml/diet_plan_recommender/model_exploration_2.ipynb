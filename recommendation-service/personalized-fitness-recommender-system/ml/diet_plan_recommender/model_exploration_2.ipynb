{
 "cells": [
  {
   "cell_type": "code",
   "execution_count": 42,
   "outputs": [],
   "source": [
    "import pandas as pd\n",
    "import numpy as np\n",
    "import sklearn\n",
    "from sklearn.neighbors import NearestNeighbors"
   ],
   "metadata": {
    "collapsed": false,
    "ExecuteTime": {
     "end_time": "2024-01-13T12:03:03.618876100Z",
     "start_time": "2024-01-13T12:03:03.618369900Z"
    }
   },
   "id": "f71060d3cb521f67"
  },
  {
   "cell_type": "code",
   "execution_count": 43,
   "outputs": [],
   "source": [
    "df = pd.read_csv('dataset.csv')"
   ],
   "metadata": {
    "collapsed": false,
    "ExecuteTime": {
     "end_time": "2024-01-13T12:03:04.095761300Z",
     "start_time": "2024-01-13T12:03:04.084018500Z"
    }
   },
   "id": "165511512fa762a8"
  },
  {
   "cell_type": "code",
   "execution_count": 44,
   "outputs": [],
   "source": [
    "class Recommender:\n",
    "    \n",
    "    def __init__(self):\n",
    "        self.df = pd.read_csv('dataset.csv')\n",
    "    \n",
    "    def get_features(self):\n",
    "        #getting dummies of dataset\n",
    "        nutrient_dummies = self.df.Nutrient.str.get_dummies()\n",
    "        disease_dummies = self.df.Disease.str.get_dummies(sep=' ')\n",
    "        diet_dummies = self.df.Diet.str.get_dummies(sep=' ')\n",
    "        feature_df = pd.concat([nutrient_dummies,disease_dummies,diet_dummies],axis=1)\n",
    "     \n",
    "        return feature_df\n",
    "    \n",
    "    def k_neighbor(self,inputs):\n",
    "        \n",
    "        feature_df = self.get_features()\n",
    "        \n",
    "        #initializing model with k=20 neighbors\n",
    "        model = NearestNeighbors(n_neighbors=40,algorithm='ball_tree')\n",
    "        \n",
    "        # fitting model with dataset features\n",
    "        model.fit(feature_df)\n",
    "        \n",
    "        df_results = pd.DataFrame(columns=list(self.df.columns))\n",
    "        \n",
    "      \n",
    "        # getting distance and indices for k nearest neighbor\n",
    "        distnaces , indices = model.kneighbors(inputs)\n",
    "\n",
    "        for i in list(indices):\n",
    "            df_results = df_results._append(self.df.loc[i])\n",
    "                \n",
    "        df_results = df_results.filter(['Name','Nutrient','Veg_Non','Price','Review','Diet','Disease','description'])\n",
    "        df_results = df_results.drop_duplicates(subset=['Name'])\n",
    "        df_results = df_results.reset_index(drop=True)\n",
    "        return df_results"
   ],
   "metadata": {
    "collapsed": false,
    "ExecuteTime": {
     "end_time": "2024-01-13T12:03:04.440565100Z",
     "start_time": "2024-01-13T12:03:04.439443300Z"
    }
   },
   "id": "fc79b0d6f8926f77"
  },
  {
   "cell_type": "code",
   "execution_count": 45,
   "outputs": [
    {
     "name": "stdout",
     "output_type": "stream",
     "text": [
      "{'calcium': 0, 'carbohydrates': 0, 'chloride': 0, 'fiber': 0, 'iodine': 0, 'iron': 0, 'magnesium': 0, 'manganese': 0, 'phosphorus': 0, 'potassium': 0, 'protien': 0, 'selenium': 0, 'sodium': 0, 'vitamin_a': 0, 'vitamin_c': 0, 'vitamin_d': 0, 'vitamin_e': 0, 'anemia': 0, 'cancer': 0, 'diabeties': 0, 'eye_disease': 0, 'goitre': 0, 'heart_disease': 0, 'hypertension': 0, 'kidney_disease': 0, 'obesity': 0, 'pregnancy': 0, 'rickets': 0, 'scurvy': 0, 'Mediterranean_diet': 0, 'alkaline_diet': 0, 'dash_diet': 0, 'gluten_free_diet': 0, 'high_fiber_diet': 0, 'high_protien_diet': 0, 'hormone_diet': 0, 'ketogenic_diet': 0, 'low_carb_diet': 0, 'low_fat_diet': 0, 'low_sodium_diet': 0, 'omni_diet': 0, 'paleo_diet': 0, 'type_a_diet': 0, 'type_o_diet': 0, 'vegan_diet': 0}\n"
     ]
    }
   ],
   "source": [
    "ob = Recommender()\n",
    "data = ob.get_features()\n",
    "\n",
    "total_features = data.columns\n",
    "d = dict()\n",
    "for i in total_features:\n",
    "    d[i]= 0\n",
    "print(d)"
   ],
   "metadata": {
    "collapsed": false,
    "ExecuteTime": {
     "end_time": "2024-01-13T12:03:04.907168200Z",
     "start_time": "2024-01-13T12:03:04.884250Z"
    }
   },
   "id": "662d6270f9710819"
  },
  {
   "cell_type": "code",
   "execution_count": 46,
   "outputs": [],
   "source": [
    "sample_input = ['high_protien_diet','gluten_free_diet','diabeties','anemia','calcium','protien']\n",
    "\n",
    "for i in sample_input:\n",
    "    \n",
    "    d[i] = 1\n",
    "\n",
    "final_input = list(d.values())"
   ],
   "metadata": {
    "collapsed": false,
    "ExecuteTime": {
     "end_time": "2024-01-13T12:03:05.369105900Z",
     "start_time": "2024-01-13T12:03:05.353347400Z"
    }
   },
   "id": "7a39940e5b1f108c"
  },
  {
   "cell_type": "code",
   "execution_count": 47,
   "outputs": [
    {
     "data": {
      "text/plain": "                                            Name       Nutrient  Veg_Non  \\\n0                                     corn pulao        protien      veg   \n1                               veg summer rolls  carbohydrates      veg   \n2                      oats &amp; shallots pulao        protien      veg   \n3                                   oats khichdi        protien      veg   \n4                                  almond pearls        protien      veg   \n5                                    apple kheer      vitamin_e      veg   \n6         cajun spiced turkey wrapped with bacon      vitamin_c  non-veg   \n7                          cinnamon star cookies        protien      veg   \n8                                    apple rabdi        calcium      veg   \n9   lemon honey glazed sous vide corn on the cob        protien  non-veg   \n10             roast turkey with cranberry sauce       chloride      veg   \n11                californian breakfast benedict        protien      veg   \n12                     almond and amaranth ladoo        calcium      veg   \n13                                    rice kheer        calcium      veg   \n14                       ragi oats ladoo (laddu)      vitamin_e      veg   \n15                          zucchini methi pulao       chloride      veg   \n16                 shrimp &amp; cilantro ceviche      vitamin_a      veg   \n17            watermelon and strawberry smoothie      magnesium      veg   \n18                                          rice  carbohydrates      veg   \n19                                   puffed rice  carbohydrates      veg   \n20                    gluten-free christmas cake      vitamin_a      veg   \n21                           puffed rice squares  carbohydrates      veg   \n22                            cashew nut cookies        protien      veg   \n23                buldak (hot and spicy chicken)      magnesium  non-veg   \n\n   Price                                               Diet  \\\n0    410    high_protien_diet low_fat_diet gluten_free_diet   \n1    545                                  high_protien_diet   \n2    470       high_protien_diet dash_diet gluten_free_diet   \n3    690       high_protien_diet dash_diet gluten_free_diet   \n4    550                                   gluten_free_diet   \n5    355                                  high_protien_diet   \n6    485                                  high_protien_diet   \n7    530                                     ketogenic_diet   \n8    335   high_protien_diet vegan_diet low_fat_diet ket...   \n9    310   low_fat_diet gluten_free_diet high_fiber_diet...   \n10   245                                  high_protien_diet   \n11   290                                  high_protien_diet   \n12   570   low_fat_diet ketogenic_diet gluten_free_diet ...   \n13   300   low_fat_diet ketogenic_diet vegan_diet high_p...   \n14   550       high_protien_diet dash_diet gluten_free_diet   \n15   485                                     ketogenic_diet   \n16   685                                     ketogenic_diet   \n17   475                  high_protien_diet high_fiber_diet   \n18   350   high_protien_diet vegan_diet dash_diet ketoge...   \n19   265   high_protien_diet vegan_diet dash_diet ketoge...   \n20   205                                  high_protien_diet   \n21   375   high_protien_diet vegan_diet dash_diet ketoge...   \n22   655   high_protien_diet vegan_diet dash_diet ketoge...   \n23   545                  high_protien_diet high_fiber_diet   \n\n                           Disease  \\\n0                 diabeties goitre   \n1                        diabeties   \n2                     hypertension   \n3                     hypertension   \n4                     hypertension   \n5                obesity diabeties   \n6                           cancer   \n7    cancer diabeties hypertension   \n8                obesity diabeties   \n9          diabeties goitre scurvy   \n10                          goitre   \n11    obesity rickets hypertension   \n12                    hypertension   \n13        obesity diabeties anemia   \n14                    hypertension   \n15                diabeties goitre   \n16                   anemia goitre   \n17                          scurvy   \n18        obesity diabeties anemia   \n19        obesity diabeties anemia   \n20           goitre kidney_disease   \n21        obesity diabeties anemia   \n22                    hypertension   \n23                         obesity   \n\n                                          description  \n0   बासमती चावल, अमेरिकन कॉर्न के दाने, जैतून का त...  \n1   rice paper sheets, iceberg lettuce, carrot, be...  \n2   चावल, हरा धनिया, हरी मिर्च, प्याज , दालचीनी, इ...  \n3   क्विक कुकिंग ओट्स, मूंगदाल, जीरा, हल्दी पाउडर,...  \n4   toasted almonds, blueberries, oats, corn flake...  \n5   apples, basmati rice, nuscovado sugar (you can...  \n6   turkey breast, cajun spice, spinach leaves (co...  \n7   मक्खन, कैस्टर शुगर, क्रिसमस मिक्स स्पाइसी, दाल...  \n8   apples, milk, sugar, green cardamoms, almonds ...  \n9   young corn on the cob, honey, lemon juice, gar...  \n10  whole turkey, butter, onion, celery, crumbled ...  \n11  brioche loaf, avocado paste, eggs, tomato, spi...  \n12  popped amaranth seeds, jaggery, almonds (slive...  \n13  milk, rice (washed), sugar, raisins, green car...  \n14  ragi flour, oats flour, dates (ripe), milk, ho...  \n15  zucchini, basmati rice, fenugreek (methi), cla...  \n16  prawns, gherkin, onion, cilantro, mix bell pep...  \n17  fresh strawberries, honey, low fat yogurt, wat...  \n18                                                NaN  \n19  grain made from rice; usually made by heating ...  \n20  christmas dry fruits (pre-soaked), orange zest...  \n21  puffed rice, nuts, honey, jaggery, butter, kew...  \n22  cashew paste, ghee, khaand (a sweetening agent...  \n23  chicken drum sticks/ chicken breast, soy sauce...  ",
      "text/html": "<div>\n<style scoped>\n    .dataframe tbody tr th:only-of-type {\n        vertical-align: middle;\n    }\n\n    .dataframe tbody tr th {\n        vertical-align: top;\n    }\n\n    .dataframe thead th {\n        text-align: right;\n    }\n</style>\n<table border=\"1\" class=\"dataframe\">\n  <thead>\n    <tr style=\"text-align: right;\">\n      <th></th>\n      <th>Name</th>\n      <th>Nutrient</th>\n      <th>Veg_Non</th>\n      <th>Price</th>\n      <th>Diet</th>\n      <th>Disease</th>\n      <th>description</th>\n    </tr>\n  </thead>\n  <tbody>\n    <tr>\n      <th>0</th>\n      <td>corn pulao</td>\n      <td>protien</td>\n      <td>veg</td>\n      <td>410</td>\n      <td>high_protien_diet low_fat_diet gluten_free_diet</td>\n      <td>diabeties goitre</td>\n      <td>बासमती चावल, अमेरिकन कॉर्न के दाने, जैतून का त...</td>\n    </tr>\n    <tr>\n      <th>1</th>\n      <td>veg summer rolls</td>\n      <td>carbohydrates</td>\n      <td>veg</td>\n      <td>545</td>\n      <td>high_protien_diet</td>\n      <td>diabeties</td>\n      <td>rice paper sheets, iceberg lettuce, carrot, be...</td>\n    </tr>\n    <tr>\n      <th>2</th>\n      <td>oats &amp;amp; shallots pulao</td>\n      <td>protien</td>\n      <td>veg</td>\n      <td>470</td>\n      <td>high_protien_diet dash_diet gluten_free_diet</td>\n      <td>hypertension</td>\n      <td>चावल, हरा धनिया, हरी मिर्च, प्याज , दालचीनी, इ...</td>\n    </tr>\n    <tr>\n      <th>3</th>\n      <td>oats khichdi</td>\n      <td>protien</td>\n      <td>veg</td>\n      <td>690</td>\n      <td>high_protien_diet dash_diet gluten_free_diet</td>\n      <td>hypertension</td>\n      <td>क्विक कुकिंग ओट्स, मूंगदाल, जीरा, हल्दी पाउडर,...</td>\n    </tr>\n    <tr>\n      <th>4</th>\n      <td>almond pearls</td>\n      <td>protien</td>\n      <td>veg</td>\n      <td>550</td>\n      <td>gluten_free_diet</td>\n      <td>hypertension</td>\n      <td>toasted almonds, blueberries, oats, corn flake...</td>\n    </tr>\n    <tr>\n      <th>5</th>\n      <td>apple kheer</td>\n      <td>vitamin_e</td>\n      <td>veg</td>\n      <td>355</td>\n      <td>high_protien_diet</td>\n      <td>obesity diabeties</td>\n      <td>apples, basmati rice, nuscovado sugar (you can...</td>\n    </tr>\n    <tr>\n      <th>6</th>\n      <td>cajun spiced turkey wrapped with bacon</td>\n      <td>vitamin_c</td>\n      <td>non-veg</td>\n      <td>485</td>\n      <td>high_protien_diet</td>\n      <td>cancer</td>\n      <td>turkey breast, cajun spice, spinach leaves (co...</td>\n    </tr>\n    <tr>\n      <th>7</th>\n      <td>cinnamon star cookies</td>\n      <td>protien</td>\n      <td>veg</td>\n      <td>530</td>\n      <td>ketogenic_diet</td>\n      <td>cancer diabeties hypertension</td>\n      <td>मक्खन, कैस्टर शुगर, क्रिसमस मिक्स स्पाइसी, दाल...</td>\n    </tr>\n    <tr>\n      <th>8</th>\n      <td>apple rabdi</td>\n      <td>calcium</td>\n      <td>veg</td>\n      <td>335</td>\n      <td>high_protien_diet vegan_diet low_fat_diet ket...</td>\n      <td>obesity diabeties</td>\n      <td>apples, milk, sugar, green cardamoms, almonds ...</td>\n    </tr>\n    <tr>\n      <th>9</th>\n      <td>lemon honey glazed sous vide corn on the cob</td>\n      <td>protien</td>\n      <td>non-veg</td>\n      <td>310</td>\n      <td>low_fat_diet gluten_free_diet high_fiber_diet...</td>\n      <td>diabeties goitre scurvy</td>\n      <td>young corn on the cob, honey, lemon juice, gar...</td>\n    </tr>\n    <tr>\n      <th>10</th>\n      <td>roast turkey with cranberry sauce</td>\n      <td>chloride</td>\n      <td>veg</td>\n      <td>245</td>\n      <td>high_protien_diet</td>\n      <td>goitre</td>\n      <td>whole turkey, butter, onion, celery, crumbled ...</td>\n    </tr>\n    <tr>\n      <th>11</th>\n      <td>californian breakfast benedict</td>\n      <td>protien</td>\n      <td>veg</td>\n      <td>290</td>\n      <td>high_protien_diet</td>\n      <td>obesity rickets hypertension</td>\n      <td>brioche loaf, avocado paste, eggs, tomato, spi...</td>\n    </tr>\n    <tr>\n      <th>12</th>\n      <td>almond and amaranth ladoo</td>\n      <td>calcium</td>\n      <td>veg</td>\n      <td>570</td>\n      <td>low_fat_diet ketogenic_diet gluten_free_diet ...</td>\n      <td>hypertension</td>\n      <td>popped amaranth seeds, jaggery, almonds (slive...</td>\n    </tr>\n    <tr>\n      <th>13</th>\n      <td>rice kheer</td>\n      <td>calcium</td>\n      <td>veg</td>\n      <td>300</td>\n      <td>low_fat_diet ketogenic_diet vegan_diet high_p...</td>\n      <td>obesity diabeties anemia</td>\n      <td>milk, rice (washed), sugar, raisins, green car...</td>\n    </tr>\n    <tr>\n      <th>14</th>\n      <td>ragi oats ladoo (laddu)</td>\n      <td>vitamin_e</td>\n      <td>veg</td>\n      <td>550</td>\n      <td>high_protien_diet dash_diet gluten_free_diet</td>\n      <td>hypertension</td>\n      <td>ragi flour, oats flour, dates (ripe), milk, ho...</td>\n    </tr>\n    <tr>\n      <th>15</th>\n      <td>zucchini methi pulao</td>\n      <td>chloride</td>\n      <td>veg</td>\n      <td>485</td>\n      <td>ketogenic_diet</td>\n      <td>diabeties goitre</td>\n      <td>zucchini, basmati rice, fenugreek (methi), cla...</td>\n    </tr>\n    <tr>\n      <th>16</th>\n      <td>shrimp &amp;amp; cilantro ceviche</td>\n      <td>vitamin_a</td>\n      <td>veg</td>\n      <td>685</td>\n      <td>ketogenic_diet</td>\n      <td>anemia goitre</td>\n      <td>prawns, gherkin, onion, cilantro, mix bell pep...</td>\n    </tr>\n    <tr>\n      <th>17</th>\n      <td>watermelon and strawberry smoothie</td>\n      <td>magnesium</td>\n      <td>veg</td>\n      <td>475</td>\n      <td>high_protien_diet high_fiber_diet</td>\n      <td>scurvy</td>\n      <td>fresh strawberries, honey, low fat yogurt, wat...</td>\n    </tr>\n    <tr>\n      <th>18</th>\n      <td>rice</td>\n      <td>carbohydrates</td>\n      <td>veg</td>\n      <td>350</td>\n      <td>high_protien_diet vegan_diet dash_diet ketoge...</td>\n      <td>obesity diabeties anemia</td>\n      <td>NaN</td>\n    </tr>\n    <tr>\n      <th>19</th>\n      <td>puffed rice</td>\n      <td>carbohydrates</td>\n      <td>veg</td>\n      <td>265</td>\n      <td>high_protien_diet vegan_diet dash_diet ketoge...</td>\n      <td>obesity diabeties anemia</td>\n      <td>grain made from rice; usually made by heating ...</td>\n    </tr>\n    <tr>\n      <th>20</th>\n      <td>gluten-free christmas cake</td>\n      <td>vitamin_a</td>\n      <td>veg</td>\n      <td>205</td>\n      <td>high_protien_diet</td>\n      <td>goitre kidney_disease</td>\n      <td>christmas dry fruits (pre-soaked), orange zest...</td>\n    </tr>\n    <tr>\n      <th>21</th>\n      <td>puffed rice squares</td>\n      <td>carbohydrates</td>\n      <td>veg</td>\n      <td>375</td>\n      <td>high_protien_diet vegan_diet dash_diet ketoge...</td>\n      <td>obesity diabeties anemia</td>\n      <td>puffed rice, nuts, honey, jaggery, butter, kew...</td>\n    </tr>\n    <tr>\n      <th>22</th>\n      <td>cashew nut cookies</td>\n      <td>protien</td>\n      <td>veg</td>\n      <td>655</td>\n      <td>high_protien_diet vegan_diet dash_diet ketoge...</td>\n      <td>hypertension</td>\n      <td>cashew paste, ghee, khaand (a sweetening agent...</td>\n    </tr>\n    <tr>\n      <th>23</th>\n      <td>buldak (hot and spicy chicken)</td>\n      <td>magnesium</td>\n      <td>non-veg</td>\n      <td>545</td>\n      <td>high_protien_diet high_fiber_diet</td>\n      <td>obesity</td>\n      <td>chicken drum sticks/ chicken breast, soy sauce...</td>\n    </tr>\n  </tbody>\n</table>\n</div>"
     },
     "execution_count": 47,
     "metadata": {},
     "output_type": "execute_result"
    }
   ],
   "source": [
    "results = ob.k_neighbor([final_input]) # pass 2d array []\n",
    "results"
   ],
   "metadata": {
    "collapsed": false,
    "ExecuteTime": {
     "end_time": "2024-01-13T12:03:05.914152300Z",
     "start_time": "2024-01-13T12:03:05.866518500Z"
    }
   },
   "id": "61a6b30abdf4a05d"
  },
  {
   "cell_type": "code",
   "execution_count": 48,
   "outputs": [
    {
     "data": {
      "text/plain": "    Meal_Id                        Name catagory  \\\n0  meal_id1         summer squash salad    salad   \n1  meal_id2        chicken minced salad    salad   \n2  meal_id3        sweet chilli almonds   chilli   \n3  meal_id4             tricolour salad    salad   \n4  meal_id5  gluten-free christmas cake     cake   \n\n                                         description  Veg_Non   Nutrient  \\\n0  white balsamic vinegar, lemon juice, lemon rin...      veg      fiber   \n1  olive oil, chicken mince, garlic (minced), oni...  non-veg      fiber   \n2  almonds whole, egg white, curry leaves, salt, ...      veg  vitamin_a   \n3  vinegar, honey/sugar, soy sauce, salt, garlic ...      veg      fiber   \n4  christmas dry fruits (pre-soaked), orange zest...      veg  vitamin_a   \n\n                                             Disease  \\\n0              obesity diabeties hypertension goitre   \n1   anemia pregnancy hypertension rickets goitre ...   \n2   hypertension scurvy heart_disease goitre kidn...   \n3                        obesity goitre hypertension   \n4                              goitre kidney_disease   \n\n                                                Diet  Price  \n0   alkaline_diet low_fat_diet ketogenic_diet low...    485  \n1   low_fat_diet low_carb_diet ketogenic_diet low...    600  \n2   alkaline_diet low_fat_diet paleo_diet Mediter...    255  \n3   low_fat_diet ketogenic_diet low_sodium_diet h...    615  \n4                                  high_protien_diet    465  ",
      "text/html": "<div>\n<style scoped>\n    .dataframe tbody tr th:only-of-type {\n        vertical-align: middle;\n    }\n\n    .dataframe tbody tr th {\n        vertical-align: top;\n    }\n\n    .dataframe thead th {\n        text-align: right;\n    }\n</style>\n<table border=\"1\" class=\"dataframe\">\n  <thead>\n    <tr style=\"text-align: right;\">\n      <th></th>\n      <th>Meal_Id</th>\n      <th>Name</th>\n      <th>catagory</th>\n      <th>description</th>\n      <th>Veg_Non</th>\n      <th>Nutrient</th>\n      <th>Disease</th>\n      <th>Diet</th>\n      <th>Price</th>\n    </tr>\n  </thead>\n  <tbody>\n    <tr>\n      <th>0</th>\n      <td>meal_id1</td>\n      <td>summer squash salad</td>\n      <td>salad</td>\n      <td>white balsamic vinegar, lemon juice, lemon rin...</td>\n      <td>veg</td>\n      <td>fiber</td>\n      <td>obesity diabeties hypertension goitre</td>\n      <td>alkaline_diet low_fat_diet ketogenic_diet low...</td>\n      <td>485</td>\n    </tr>\n    <tr>\n      <th>1</th>\n      <td>meal_id2</td>\n      <td>chicken minced salad</td>\n      <td>salad</td>\n      <td>olive oil, chicken mince, garlic (minced), oni...</td>\n      <td>non-veg</td>\n      <td>fiber</td>\n      <td>anemia pregnancy hypertension rickets goitre ...</td>\n      <td>low_fat_diet low_carb_diet ketogenic_diet low...</td>\n      <td>600</td>\n    </tr>\n    <tr>\n      <th>2</th>\n      <td>meal_id3</td>\n      <td>sweet chilli almonds</td>\n      <td>chilli</td>\n      <td>almonds whole, egg white, curry leaves, salt, ...</td>\n      <td>veg</td>\n      <td>vitamin_a</td>\n      <td>hypertension scurvy heart_disease goitre kidn...</td>\n      <td>alkaline_diet low_fat_diet paleo_diet Mediter...</td>\n      <td>255</td>\n    </tr>\n    <tr>\n      <th>3</th>\n      <td>meal_id4</td>\n      <td>tricolour salad</td>\n      <td>salad</td>\n      <td>vinegar, honey/sugar, soy sauce, salt, garlic ...</td>\n      <td>veg</td>\n      <td>fiber</td>\n      <td>obesity goitre hypertension</td>\n      <td>low_fat_diet ketogenic_diet low_sodium_diet h...</td>\n      <td>615</td>\n    </tr>\n    <tr>\n      <th>4</th>\n      <td>meal_id5</td>\n      <td>gluten-free christmas cake</td>\n      <td>cake</td>\n      <td>christmas dry fruits (pre-soaked), orange zest...</td>\n      <td>veg</td>\n      <td>vitamin_a</td>\n      <td>goitre kidney_disease</td>\n      <td>high_protien_diet</td>\n      <td>465</td>\n    </tr>\n  </tbody>\n</table>\n</div>"
     },
     "execution_count": 48,
     "metadata": {},
     "output_type": "execute_result"
    }
   ],
   "source": [
    "my_df_check=pd.read_csv('dataset.csv')\n",
    "my_df_check.head()"
   ],
   "metadata": {
    "collapsed": false,
    "ExecuteTime": {
     "end_time": "2024-01-13T12:03:06.557208400Z",
     "start_time": "2024-01-13T12:03:06.534433Z"
    }
   },
   "id": "139af24a140287c0"
  },
  {
   "cell_type": "code",
   "execution_count": 49,
   "outputs": [
    {
     "data": {
      "text/plain": "array([' alkaline_diet low_fat_diet ketogenic_diet low_sodium_diet high_fiber_diet high_protien_diet dash_diet',\n       ' low_fat_diet low_carb_diet ketogenic_diet low_sodium_diet vegan_diet high_fiber_diet hormone_diet high_protien_diet type_a_diet',\n       ' alkaline_diet low_fat_diet paleo_diet Mediterranean_diet low_sodium_diet high_fiber_diet high_protien_diet dash_diet',\n       ' low_fat_diet ketogenic_diet low_sodium_diet high_fiber_diet high_protien_diet',\n       ' high_protien_diet',\n       ' high_protien_diet vegan_diet low_fat_diet ketogenic_diet',\n       ' high_protien_diet high_fiber_diet ketogenic_diet',\n       ' alkaline_diet',\n       ' alkaline_diet low_fat_diet ketogenic_diet gluten_free_diet vegan_diet high_protien_diet',\n       ' alkaline_diet ketogenic_diet gluten_free_diet vegan_diet high_protien_diet dash_diet',\n       ' alkaline_diet low_fat_diet paleo_diet ketogenic_diet low_sodium_diet gluten_free_diet vegan_diet high_fiber_diet high_protien_diet dash_diet',\n       ' low_fat_diet gluten_free_diet high_fiber_diet high_protien_diet dash_diet',\n       ' high_protien_diet high_fiber_diet',\n       ' alkaline_diet omni_diet ketogenic_diet low_sodium_diet vegan_diet high_fiber_diet gluten_free_diet',\n       ' gluten_free_diet vegan_diet low_fat_diet high_fiber_diet',\n       ' alkaline_diet low_fat_diet ketogenic_diet gluten_free_diet vegan_diet high_fiber_diet high_protien_diet',\n       ' alkaline_diet low_fat_diet ketogenic_diet low_sodium_diet gluten_free_diet vegan_diet high_fiber_diet high_protien_diet',\n       ' low_fat_diet ketogenic_diet gluten_free_diet vegan_diet high_protien_diet',\n       ' alkaline_diet low_fat_diet low_sodium_diet high_fiber_diet high_protien_diet',\n       ' low_sodium_diet vegan_diet low_fat_diet high_fiber_diet',\n       ' low_sodium_diet high_protien_diet low_fat_diet high_fiber_diet',\n       ' alkaline_diet omni_diet ketogenic_diet low_sodium_diet vegan_diet high_fiber_diet gluten_free_diet dash_diet',\n       ' alkaline_diet low_fat_diet ketogenic_diet vegan_diet high_fiber_diet hormone_diet high_protien_diet dash_diet',\n       ' high_protien_diet vegan_diet dash_diet ketogenic_diet',\n       ' gluten_free_diet',\n       ' alkaline_diet low_fat_diet ketogenic_diet low_sodium_diet high_fiber_diet high_protien_diet',\n       ' low_fat_diet ketogenic_diet low_sodium_diet gluten_free_diet vegan_diet high_fiber_diet high_protien_diet',\n       ' dash_diet high_fiber_diet type_a_diet ketogenic_diet',\n       ' alkaline_diet paleo_diet ketogenic_diet high_fiber_diet gluten_free_diet dash_diet',\n       ' alkaline_diet low_fat_diet vegan_diet high_fiber_diet hormone_diet dash_diet',\n       ' alkaline_diet low_fat_diet ketogenic_diet vegan_diet high_fiber_diet dash_diet',\n       ' alkaline_diet low_fat_diet ketogenic_diet vegan_diet high_fiber_diet',\n       ' alkaline_diet ketogenic_diet vegan_diet high_protien_diet dash_diet',\n       ' alkaline_diet low_fat_diet paleo_diet Mediterranean_diet low_sodium_diet gluten_free_diet vegan_diet high_fiber_diet high_protien_diet dash_diet',\n       ' alkaline_diet low_fat_diet ketogenic_diet low_sodium_diet gluten_free_diet high_fiber_diet high_protien_diet',\n       ' high_protien_diet dash_diet gluten_free_diet',\n       ' low_fat_diet ketogenic_diet gluten_free_diet vegan_diet high_fiber_diet hormone_diet high_protien_diet dash_diet',\n       ' vegan_diet low_fat_diet ketogenic_diet',\n       ' alkaline_diet low_fat_diet vegan_diet high_fiber_diet hormone_diet',\n       ' low_fat_diet low_carb_diet vegan_diet high_fiber_diet hormone_diet high_protien_diet type_a_diet',\n       ' type_o_diet low_fat_diet omni_diet ketogenic_diet low_sodium_diet vegan_diet high_fiber_diet high_protien_diet dash_diet',\n       ' low_fat_diet low_carb_diet ketogenic_diet low_sodium_diet gluten_free_diet vegan_diet high_fiber_diet hormone_diet high_protien_diet type_a_diet',\n       ' vegan_diet high_fiber_diet',\n       ' low_fat_diet paleo_diet vegan_diet high_fiber_diet high_protien_diet',\n       ' low_fat_diet low_carb_diet vegan_diet hormone_diet high_protien_diet type_a_diet',\n       ' alkaline_diet low_fat_diet ketogenic_diet vegan_diet high_protien_diet dash_diet low_carb_diet',\n       ' alkaline_diet low_fat_diet ketogenic_diet vegan_diet high_protien_diet dash_diet',\n       ' low_fat_diet low_sodium_diet gluten_free_diet vegan_diet high_fiber_diet high_protien_diet',\n       ' vegan_diet low_fat_diet ketogenic_diet hormone_diet',\n       ' high_protien_diet vegan_diet high_fiber_diet',\n       ' low_fat_diet omni_diet ketogenic_diet gluten_free_diet high_fiber_diet hormone_diet high_protien_diet',\n       ' ketogenic_diet vegan_diet high_fiber_diet high_protien_diet dash_diet',\n       ' low_fat_diet', ' alkaline_diet high_fiber_diet',\n       ' vegan_diet low_fat_diet high_fiber_diet ketogenic_diet',\n       ' low_fat_diet ketogenic_diet vegan_diet high_fiber_diet hormone_diet',\n       ' low_fat_diet ketogenic_diet vegan_diet hormone_diet high_protien_diet',\n       ' vegan_diet',\n       ' alkaline_diet high_fiber_diet hormone_diet high_protien_diet dash_diet',\n       ' low_fat_diet ketogenic_diet vegan_diet high_fiber_diet hormone_diet high_protien_diet',\n       ' low_fat_diet ketogenic_diet high_fiber_diet high_protien_diet dash_diet',\n       ' alkaline_diet low_fat_diet ketogenic_diet low_sodium_diet dash_diet type_a_diet',\n       ' alkaline_diet low_fat_diet low_carb_diet ketogenic_diet vegan_diet high_fiber_diet hormone_diet high_protien_diet type_a_diet',\n       ' low_fat_diet low_carb_diet low_sodium_diet vegan_diet high_fiber_diet hormone_diet high_protien_diet dash_diet type_a_diet',\n       ' low_fat_diet low_carb_diet ketogenic_diet vegan_diet high_fiber_diet hormone_diet high_protien_diet type_a_diet',\n       ' alkaline_diet low_fat_diet low_carb_diet vegan_diet high_fiber_diet hormone_diet high_protien_diet type_a_diet',\n       ' alkaline_diet low_fat_diet low_carb_diet vegan_diet high_fiber_diet hormone_diet high_protien_diet dash_diet type_a_diet',\n       ' low_fat_diet low_carb_diet ketogenic_diet vegan_diet hormone_diet high_protien_diet dash_diet type_a_diet',\n       ' low_fat_diet low_carb_diet ketogenic_diet vegan_diet hormone_diet high_protien_diet type_a_diet',\n       ' alkaline_diet low_fat_diet paleo_diet Mediterranean_diet low_carb_diet low_sodium_diet gluten_free_diet vegan_diet high_fiber_diet hormone_diet high_protien_diet dash_diet type_a_diet',\n       ' alkaline_diet low_fat_diet low_carb_diet ketogenic_diet vegan_diet hormone_diet high_protien_diet dash_diet type_a_diet',\n       ' vegan_diet low_fat_diet high_fiber_diet',\n       ' ketogenic_diet hormone_diet',\n       ' low_sodium_diet vegan_diet dash_diet ketogenic_diet',\n       ' low_fat_diet ketogenic_diet low_sodium_diet vegan_diet high_protien_diet',\n       ' low_fat_diet ketogenic_diet low_sodium_diet high_fiber_diet high_protien_diet dash_diet',\n       ' alkaline_diet low_fat_diet ketogenic_diet low_sodium_diet vegan_diet high_protien_diet dash_diet low_carb_diet',\n       ' type_o_diet omni_diet ketogenic_diet vegan_diet dash_diet',\n       ' ketogenic_diet', ' alkaline_diet hormone_diet',\n       ' low_fat_diet ketogenic_diet low_sodium_diet vegan_diet high_fiber_diet dash_diet',\n       ' alkaline_diet low_fat_diet ketogenic_diet gluten_free_diet vegan_diet high_protien_diet dash_diet low_carb_diet',\n       ' alkaline_diet ketogenic_diet vegan_diet hormone_diet high_protien_diet dash_diet',\n       ' alkaline_diet low_fat_diet omni_diet ketogenic_diet vegan_diet hormone_diet high_protien_diet dash_diet low_carb_diet',\n       ' alkaline_diet low_fat_diet gluten_free_diet high_fiber_diet high_protien_diet',\n       ' alkaline_diet dash_diet high_fiber_diet hormone_diet',\n       ' alkaline_diet low_fat_diet ketogenic_diet low_sodium_diet vegan_diet hormone_diet high_protien_diet dash_diet type_a_diet',\n       ' low_fat_diet ketogenic_diet vegan_diet high_fiber_diet dash_diet',\n       ' alkaline_diet low_fat_diet ketogenic_diet vegan_diet high_fiber_diet hormone_diet dash_diet',\n       ' low_fat_diet gluten_free_diet vegan_diet high_fiber_diet high_protien_diet',\n       ' low_fat_diet ketogenic_diet vegan_diet high_fiber_diet high_protien_diet dash_diet',\n       ' alkaline_diet ketogenic_diet vegan_diet high_fiber_diet hormone_diet high_protien_diet dash_diet',\n       ' high_protien_diet low_fat_diet gluten_free_diet',\n       ' alkaline_diet dash_diet low_fat_diet',\n       ' high_protien_diet low_fat_diet',\n       ' low_fat_diet Mediterranean_diet ketogenic_diet vegan_diet high_fiber_diet high_protien_diet dash_diet',\n       ' dash_diet Mediterranean_diet',\n       ' low_fat_diet Mediterranean_diet ketogenic_diet vegan_diet high_fiber_diet dash_diet',\n       ' low_fat_diet Mediterranean_diet ketogenic_diet vegan_diet dash_diet',\n       ' low_sodium_diet high_protien_diet low_fat_diet ketogenic_diet',\n       ' alkaline_diet low_fat_diet ketogenic_diet low_sodium_diet vegan_diet high_protien_diet dash_diet',\n       ' alkaline_diet low_fat_diet paleo_diet Mediterranean_diet ketogenic_diet low_sodium_diet vegan_diet high_fiber_diet high_protien_diet dash_diet',\n       ' Mediterranean_diet ketogenic_diet high_fiber_diet high_protien_diet dash_diet',\n       ' high_protien_diet low_fat_diet high_fiber_diet ketogenic_diet',\n       ' high_fiber_diet ketogenic_diet',\n       ' alkaline_diet low_fat_diet ketogenic_diet low_sodium_diet vegan_diet high_fiber_diet hormone_diet high_protien_diet',\n       ' alkaline_diet low_fat_diet ketogenic_diet vegan_diet high_fiber_diet hormone_diet high_protien_diet',\n       ' high_protien_diet high_fiber_diet ketogenic_diet gluten_free_diet',\n       ' alkaline_diet low_fat_diet high_fiber_diet ketogenic_diet',\n       ' alkaline_diet low_fat_diet ketogenic_diet vegan_diet high_fiber_diet gluten_free_diet',\n       ' alkaline_diet low_fat_diet paleo_diet Mediterranean_diet ketogenic_diet low_sodium_diet vegan_diet high_fiber_diet dash_diet',\n       ' paleo_diet ketogenic_diet low_sodium_diet vegan_diet high_fiber_diet gluten_free_diet dash_diet',\n       ' low_fat_diet omni_diet ketogenic_diet high_fiber_diet hormone_diet high_protien_diet',\n       ' alkaline_diet low_fat_diet low_sodium_diet gluten_free_diet vegan_diet high_fiber_diet high_protien_diet dash_diet',\n       ' alkaline_diet low_fat_diet omni_diet paleo_diet Mediterranean_diet low_sodium_diet high_fiber_diet high_protien_diet dash_diet',\n       ' low_fat_diet high_fiber_diet ketogenic_diet',\n       ' low_fat_diet omni_diet Mediterranean_diet ketogenic_diet low_sodium_diet vegan_diet high_protien_diet dash_diet',\n       ' alkaline_diet low_fat_diet paleo_diet Mediterranean_diet low_sodium_diet gluten_free_diet high_fiber_diet high_protien_diet dash_diet',\n       ' alkaline_diet dash_diet low_fat_diet type_a_diet',\n       ' low_fat_diet ketogenic_diet vegan_diet high_fiber_diet high_protien_diet',\n       ' low_fat_diet omni_diet low_carb_diet vegan_diet high_fiber_diet hormone_diet high_protien_diet type_a_diet',\n       ' low_fat_diet ketogenic_diet vegan_diet high_fiber_diet hormone_diet gluten_free_diet',\n       ' low_fat_diet ketogenic_diet low_sodium_diet vegan_diet high_fiber_diet high_protien_diet dash_diet',\n       ' low_sodium_diet',\n       ' low_fat_diet ketogenic_diet vegan_diet high_protien_diet dash_diet',\n       ' alkaline_diet ketogenic_diet vegan_diet high_fiber_diet high_protien_diet dash_diet',\n       ' low_fat_diet ketogenic_diet gluten_free_diet high_protien_diet dash_diet',\n       ' alkaline_diet low_fat_diet ketogenic_diet vegan_diet high_fiber_diet high_protien_diet',\n       ' low_sodium_diet vegan_diet low_fat_diet dash_diet',\n       ' paleo_diet ketogenic_diet high_fiber_diet gluten_free_diet dash_diet',\n       ' low_fat_diet ketogenic_diet gluten_free_diet vegan_diet high_protien_diet dash_diet',\n       ' alkaline_diet low_fat_diet ketogenic_diet vegan_diet high_fiber_diet high_protien_diet dash_diet',\n       ' low_sodium_diet low_fat_diet high_fiber_diet',\n       ' alkaline_diet vegan_diet high_fiber_diet high_protien_diet dash_diet',\n       ' alkaline_diet low_fat_diet omni_diet ketogenic_diet low_sodium_diet high_fiber_diet high_protien_diet dash_diet type_a_diet',\n       ' alkaline_diet low_fat_diet ketogenic_diet low_sodium_diet vegan_diet high_fiber_diet high_protien_diet',\n       ' low_fat_diet paleo_diet ketogenic_diet gluten_free_diet vegan_diet high_fiber_diet high_protien_diet dash_diet',\n       ' low_sodium_diet vegan_diet dash_diet',\n       ' alkaline_diet ketogenic_diet vegan_diet high_fiber_diet dash_diet type_a_diet',\n       ' Mediterranean_diet ketogenic_diet low_sodium_diet vegan_diet hormone_diet high_protien_diet dash_diet',\n       ' alkaline_diet high_protien_diet vegan_diet high_fiber_diet'],\n      dtype=object)"
     },
     "execution_count": 49,
     "metadata": {},
     "output_type": "execute_result"
    }
   ],
   "source": [
    "my_df_check.Diet.unique()"
   ],
   "metadata": {
    "collapsed": false,
    "ExecuteTime": {
     "end_time": "2024-01-13T12:03:07.117214500Z",
     "start_time": "2024-01-13T12:03:07.104532200Z"
    }
   },
   "id": "4685157f60505176"
  },
  {
   "cell_type": "code",
   "execution_count": 50,
   "outputs": [
    {
     "data": {
      "text/plain": "array(['fiber', 'vitamin_a', 'calcium', 'magnesium', 'sodium',\n       'vitamin_c', 'protien', 'vitamin_e', 'iron', 'selenium',\n       'carbohydrates', 'chloride', 'potassium', 'vitamin_d', 'manganese',\n       'phosphorus', 'iodine'], dtype=object)"
     },
     "execution_count": 50,
     "metadata": {},
     "output_type": "execute_result"
    }
   ],
   "source": [
    "my_df_check.Nutrient.unique()"
   ],
   "metadata": {
    "collapsed": false,
    "ExecuteTime": {
     "end_time": "2024-01-13T12:03:07.669537200Z",
     "start_time": "2024-01-13T12:03:07.655935600Z"
    }
   },
   "id": "19854724d351c19c"
  },
  {
   "cell_type": "code",
   "execution_count": 51,
   "outputs": [
    {
     "data": {
      "text/plain": "array([' obesity diabeties hypertension goitre',\n       ' anemia pregnancy hypertension rickets goitre kidney_disease obesity',\n       ' hypertension scurvy heart_disease goitre kidney_disease pregnancy',\n       ' obesity goitre hypertension', ' goitre kidney_disease',\n       ' goitre', ' hypertension heart_disease',\n       ' pregnancy scurvy goitre kidney_disease obesity',\n       ' obesity cancer hypertension',\n       ' pregnancy hypertension scurvy obesity diabeties',\n       ' pregnancy hypertension scurvy goitre obesity',\n       ' diabeties goitre scurvy', ' scurvy',\n       ' anemia cancer heart_disease kidney_disease obesity diabeties',\n       ' hypertension',\n       ' anemia hypertension cancer scurvy heart_disease kidney_disease diabeties',\n       ' goitre hypertension kidney_disease', ' goitre hypertension',\n       ' diabeties goitre', ' obesity diabeties',\n       ' anemia hypertension scurvy heart_disease goitre kidney_disease pregnancy diabeties',\n       ' obesity scurvy hypertension goitre',\n       ' hypertension scurvy heart_disease goitre kidney_disease obesity',\n       ' anemia scurvy goitre kidney_disease',\n       ' anemia pregnancy hypertension cancer scurvy heart_disease eye_disease rickets goitre kidney_disease obesity diabeties',\n       ' obesity scurvy hypertension', ' diabeties hypertension',\n       ' obesity',\n       ' anemia pregnancy cancer scurvy kidney_disease obesity diabeties',\n       ' hypertension goitre kidney_disease obesity diabeties',\n       ' hypertension scurvy goitre kidney_disease pregnancy',\n       ' anemia hypertension cancer scurvy heart_disease goitre kidney_disease obesity diabeties',\n       ' pregnancy hypertension cancer heart_disease goitre kidney_disease obesity diabeties',\n       ' cancer', ' anemia rickets goitre kidney_disease pregnancy',\n       ' anemia pregnancy cancer goitre kidney_disease obesity',\n       ' anemia hypertension rickets goitre kidney_disease pregnancy',\n       ' pregnancy goitre',\n       ' anemia pregnancy hypertension heart_disease rickets goitre obesity diabeties',\n       ' anemia pregnancy hypertension cancer heart_disease rickets goitre kidney_disease obesity diabeties',\n       ' heart_disease', ' obesity scurvy kidney_disease heart_disease',\n       ' goitre hypertension heart_disease',\n       ' anemia hypertension scurvy heart_disease rickets kidney_disease obesity',\n       ' obesity eye_disease', ' kidney_disease',\n       ' anemia hypertension scurvy heart_disease eye_disease rickets',\n       ' hypertension cancer scurvy heart_disease goitre',\n       ' anemia pregnancy scurvy heart_disease goitre kidney_disease obesity diabeties',\n       ' kidney_disease heart_disease', ' scurvy goitre',\n       ' anemia scurvy kidney_disease',\n       ' anemia pregnancy hypertension scurvy heart_disease goitre kidney_disease obesity diabeties',\n       ' eye_disease rickets heart_disease scurvy',\n       ' pregnancy hypertension scurvy heart_disease eye_disease obesity diabeties',\n       ' cancer hypertension rickets', ' pregnancy anemia',\n       ' pregnancy kidney_disease anemia',\n       ' hypertension cancer heart_disease kidney_disease obesity diabeties',\n       ' anemia pregnancy scurvy heart_disease rickets goitre kidney_disease obesity diabeties',\n       ' anemia scurvy rickets goitre kidney_disease pregnancy',\n       ' anemia cancer rickets goitre kidney_disease pregnancy',\n       ' anemia pregnancy rickets goitre kidney_disease obesity',\n       ' anemia rickets goitre kidney_disease pregnancy diabeties',\n       ' anemia hypertension cancer heart_disease rickets goitre kidney_disease pregnancy diabeties',\n       ' anemia hypertension scurvy rickets goitre kidney_disease pregnancy',\n       ' anemia pregnancy eye_disease rickets goitre kidney_disease obesity',\n       ' anemia pregnancy cancer kidney_disease obesity',\n       ' obesity diabeties anemia',\n       ' hypertension cancer heart_disease rickets goitre kidney_disease pregnancy diabeties',\n       ' anemia pregnancy hypertension cancer scurvy heart_disease rickets goitre kidney_disease obesity diabeties',\n       ' anemia pregnancy rickets goitre obesity', ' anemia goitre',\n       ' obesity diabeties goitre anemia',\n       ' obesity cancer diabeties anemia', ' obesity pregnancy',\n       ' obesity diabeties kidney_disease anemia',\n       ' anemia cancer kidney_disease obesity diabeties',\n       ' obesity diabeties anemia scurvy',\n       ' scurvy heart_disease kidney_disease pregnancy diabeties',\n       ' anemia pregnancy cancer goitre kidney_disease obesity diabeties',\n       ' scurvy kidney_disease', ' rickets',\n       ' hypertension heart_disease eye_disease rickets goitre obesity',\n       ' hypertension rickets goitre kidney_disease pregnancy diabeties',\n       ' pregnancy hypertension eye_disease rickets goitre kidney_disease obesity diabeties',\n       ' obesity eye_disease heart_disease', ' cancer heart_disease',\n       ' scurvy hypertension heart_disease',\n       ' hypertension heart_disease goitre obesity diabeties',\n       ' cancer hypertension kidney_disease rickets',\n       ' obesity pregnancy hypertension goitre',\n       ' scurvy heart_disease kidney_disease obesity diabeties',\n       ' cancer hypertension kidney_disease',\n       ' pregnancy hypertension scurvy goitre kidney_disease obesity',\n       ' pregnancy',\n       ' pregnancy hypertension scurvy heart_disease goitre kidney_disease obesity',\n       ' diabeties',\n       ' hypertension cancer scurvy heart_disease kidney_disease pregnancy diabeties',\n       ' hypertension cancer rickets goitre obesity diabeties',\n       ' anemia pregnancy scurvy rickets goitre kidney_disease obesity',\n       ' hypertension heart_disease goitre kidney_disease obesity diabeties',\n       ' cancer diabeties hypertension',\n       ' diabeties hypertension heart_disease scurvy',\n       ' pregnancy hypertension goitre obesity diabeties',\n       ' pregnancy diabeties scurvy',\n       ' anemia scurvy rickets goitre pregnancy', ' obesity hypertension',\n       ' obesity diabeties hypertension pregnancy',\n       ' anemia pregnancy hypertension cancer scurvy goitre kidney_disease obesity diabeties',\n       ' rickets goitre', ' anemia rickets scurvy',\n       ' obesity rickets hypertension',\n       ' anemia pregnancy hypertension cancer scurvy heart_disease rickets kidney_disease obesity diabeties',\n       ' anemia pregnancy hypertension heart_disease goitre obesity diabeties',\n       ' anemia hypertension cancer scurvy heart_disease goitre kidney_disease diabeties',\n       ' pregnancy hypertension scurvy heart_disease eye_disease goitre obesity diabeties',\n       ' pregnancy scurvy goitre',\n       ' anemia scurvy hypertension kidney_disease',\n       ' obesity goitre kidney_disease eye_disease',\n       ' cancer scurvy heart_disease eye_disease rickets goitre kidney_disease obesity diabeties',\n       ' anemia pregnancy goitre obesity diabeties',\n       ' obesity diabeties anemia heart_disease',\n       ' anemia cancer scurvy heart_disease eye_disease rickets goitre kidney_disease obesity diabeties'],\n      dtype=object)"
     },
     "execution_count": 51,
     "metadata": {},
     "output_type": "execute_result"
    }
   ],
   "source": [
    "my_df_check.Disease.unique()"
   ],
   "metadata": {
    "collapsed": false,
    "ExecuteTime": {
     "end_time": "2024-01-13T12:03:08.242006600Z",
     "start_time": "2024-01-13T12:03:08.231203800Z"
    }
   },
   "id": "fd05b8ae686c1825"
  },
  {
   "cell_type": "code",
   "execution_count": 52,
   "outputs": [],
   "source": [
    "import pandas as pd \n",
    "import numpy as np\n",
    "import warnings\n",
    "import time\n",
    "import seaborn as sns\n",
    "import matplotlib.pyplot as plt\n",
    "import random\n",
    "import nltk\n",
    "from nltk.corpus import stopwords\n",
    "\n",
    "warnings.filterwarnings('ignore')"
   ],
   "metadata": {
    "collapsed": false,
    "ExecuteTime": {
     "end_time": "2024-01-13T12:03:08.808024300Z",
     "start_time": "2024-01-13T12:03:08.776754100Z"
    }
   },
   "id": "c46d4354caaedf7d"
  },
  {
   "cell_type": "code",
   "execution_count": 53,
   "outputs": [],
   "source": [
    "class Profile:\n",
    "    \n",
    "    df = pd.read_csv('dataset.csv') # static variable\n",
    "    \n",
    "    def __init__(self,diet,disease,Nutrient,food_type,favorite_food):\n",
    "        self.diet = diet\n",
    "        self.disease = disease\n",
    "        self.nutrient = Nutrient\n",
    "        self.type = food_type\n",
    "        self.like = favorite_food\n",
    "        self.df2 = pd.DataFrame(columns=list(Profile.df.columns))\n",
    "        self.df3 = pd.DataFrame(columns=list(Profile.df.columns))\n",
    "        self.df4 = pd.DataFrame(columns=list(Profile.df.columns))\n",
    "        self.df5 = pd.DataFrame(columns=list(Profile.df.columns))\n",
    "        self.df6 = pd.DataFrame(columns=list(Profile.df.columns))\n",
    "        \n",
    "    def removestop(self,tokens):\n",
    "        stop = set(stopwords.words('english'))\n",
    "        file = open('stopwords.txt','r')\n",
    "        l = list(file.read().split())\n",
    "        stop = list(stop) +l\n",
    "        l = [token for token in tokens if token not in stop]\n",
    "        return l\n",
    "            \n",
    "    def inputs(self,diet,disease,Nutrient,food_type,favorite_food):\n",
    "        \n",
    "        if Nutrient:\n",
    "            self.df2 = Profile.df[Profile.df.Nutrient.isin(Nutrient)]\n",
    "            self.df2 = self.df2.reset_index()\n",
    "       \n",
    "        if food_type:\n",
    "            self.df2 = self.df2[self.df2.Veg_Non.isin(food_type)]\n",
    "            self.df2 = self.df2.reset_index()\n",
    "      \n",
    "        if diet:\n",
    "            for i in range(self.df2.shape[0]):\n",
    "                l = str(self.df2.loc[i,'Diet']).split()\n",
    "                \n",
    "                for d in diet:\n",
    "                    if d in l:\n",
    "                        self.df4=self.df4._append(self.df2.loc[i])\n",
    " \n",
    "        if disease:\n",
    "            for i in range(self.df2.shape[0]):\n",
    "                l = str(self.df2.loc[i,'Disease']).split()\n",
    "                for d in disease:\n",
    "                    if d in l:\n",
    "                        self.df5=self.df5._append(self.df2.loc[i])\n",
    "\n",
    "        if favorite_food:\n",
    "            f = self.removestop(favorite_food.split())\n",
    "            for i in range(Profile.df.shape[0]):\n",
    "                n = [j.lower() for j in str(Profile.df.loc[i,'Name']).split()]\n",
    "                for j in n:\n",
    "                    for k in f:\n",
    "                        if k==j:\n",
    "                            self.df6=self.df6._append(Profile.df.loc[i])\n",
    "            for i in range(Profile.df.shape[0]):\n",
    "                n = [j.lower() for j in str(Profile.df.loc[i,'description']).split()]\n",
    "                for j in n:\n",
    "                    for k in f:\n",
    "                        if k==j:\n",
    "                            self.df6=self.df6._append(df.loc[i])\n",
    "            for i in range(Profile.df.shape[0]):\n",
    "                n = [j.lower() for j in str(Profile.df.loc[i,'catagory']).split()]\n",
    "                for j in n:\n",
    "                    for k in f:\n",
    "                        if k==j:\n",
    "                            self.df6=self.df6._append(Profile.df.loc[i])\n",
    "            \n",
    "        return self.df2,self.df3,self.df4,self.df5,self.df6\n",
    "    \n",
    "    def get_profile(self):\n",
    "        df2,df3,df4,df5,df6 = self.inputs(self.diet,self.disease,self.nutrient,self.type,self.like)\n",
    "        \n",
    "        df_merge = pd.concat([df2,df3,df4,df5,df6],axis=0).drop_duplicates(subset='Name')\n",
    "        df_merge = df_merge.filter(['Name','Nutrient','Veg_Non','Price','Review','description'])\n",
    "        print(df_merge.shape)\n",
    "        \n",
    "        return df_merge"
   ],
   "metadata": {
    "collapsed": false,
    "ExecuteTime": {
     "end_time": "2024-01-13T12:03:09.364287900Z",
     "start_time": "2024-01-13T12:03:09.348233600Z"
    }
   },
   "id": "138d7aecf7e17923"
  },
  {
   "cell_type": "code",
   "execution_count": 54,
   "outputs": [
    {
     "name": "stdout",
     "output_type": "stream",
     "text": [
      "(14, 5)\n"
     ]
    },
    {
     "data": {
      "text/plain": "                                                  Name       Nutrient  \\\n0             almond and chicken momos (without shell)        calcium   \n1                 chicken parmigiana with tomato sauce      vitamin_c   \n2                               sous-vide salmon tikka        calcium   \n4                             riceless chicken biryani      vitamin_c   \n5                                      chicken roulade        calcium   \n6                                cheese chicken kebabs        calcium   \n7               cajun spiced turkey wrapped with bacon      vitamin_c   \n8                      seared salmon in tabasco butter        calcium   \n9    risotto lobster with parmesan egg pancake, con...      vitamin_c   \n10                               fish with jamun sauce      vitamin_c   \n11                                       fish andlouse      vitamin_c   \n19                                chicken tikka masala        calcium   \n509                                        bhurji- egg      vitamin_a   \n511                                        puffed rice  carbohydrates   \n\n     Veg_Non Price                                        description  \n0    non-veg   415  chicken mince, garlic, carrots, spring onion, ...  \n1    non-veg   485  for chicken parmigiana:, chicken breast, egg w...  \n2    non-veg   465  norwegian salmon, black garlic pickle, butter,...  \n4    non-veg   360  malabar peppercorn, cinnamon stick, green card...  \n5    non-veg   665  chicken breasts, olives, jalapenos, bell peppe...  \n6    non-veg   270  चिकन थाईज़, लहसुन का पेस्ट, लहसुन का पेस्ट, पी...  \n7    non-veg   555  turkey breast, cajun spice, spinach leaves (co...  \n8    non-veg   265  butter, tabasco, chives, salt, salmon fillet, ...  \n9    non-veg   455  lobster shell, carrot, leeks, garlic cloves, t...  \n10   non-veg   560  jamun, sugar, chilli, garlic cloves (minced), ...  \n11   non-veg   255  white wine and water mix to cover, onion, salt...  \n19   non-veg   355        d in a yogurt tomato sauce. creamy texture.  \n509  non-veg   645  made using indian spices, onion, tomatoes, gre...  \n511      veg   265  grain made from rice; usually made by heating ...  ",
      "text/html": "<div>\n<style scoped>\n    .dataframe tbody tr th:only-of-type {\n        vertical-align: middle;\n    }\n\n    .dataframe tbody tr th {\n        vertical-align: top;\n    }\n\n    .dataframe thead th {\n        text-align: right;\n    }\n</style>\n<table border=\"1\" class=\"dataframe\">\n  <thead>\n    <tr style=\"text-align: right;\">\n      <th></th>\n      <th>Name</th>\n      <th>Nutrient</th>\n      <th>Veg_Non</th>\n      <th>Price</th>\n      <th>description</th>\n    </tr>\n  </thead>\n  <tbody>\n    <tr>\n      <th>0</th>\n      <td>almond and chicken momos (without shell)</td>\n      <td>calcium</td>\n      <td>non-veg</td>\n      <td>415</td>\n      <td>chicken mince, garlic, carrots, spring onion, ...</td>\n    </tr>\n    <tr>\n      <th>1</th>\n      <td>chicken parmigiana with tomato sauce</td>\n      <td>vitamin_c</td>\n      <td>non-veg</td>\n      <td>485</td>\n      <td>for chicken parmigiana:, chicken breast, egg w...</td>\n    </tr>\n    <tr>\n      <th>2</th>\n      <td>sous-vide salmon tikka</td>\n      <td>calcium</td>\n      <td>non-veg</td>\n      <td>465</td>\n      <td>norwegian salmon, black garlic pickle, butter,...</td>\n    </tr>\n    <tr>\n      <th>4</th>\n      <td>riceless chicken biryani</td>\n      <td>vitamin_c</td>\n      <td>non-veg</td>\n      <td>360</td>\n      <td>malabar peppercorn, cinnamon stick, green card...</td>\n    </tr>\n    <tr>\n      <th>5</th>\n      <td>chicken roulade</td>\n      <td>calcium</td>\n      <td>non-veg</td>\n      <td>665</td>\n      <td>chicken breasts, olives, jalapenos, bell peppe...</td>\n    </tr>\n    <tr>\n      <th>6</th>\n      <td>cheese chicken kebabs</td>\n      <td>calcium</td>\n      <td>non-veg</td>\n      <td>270</td>\n      <td>चिकन थाईज़, लहसुन का पेस्ट, लहसुन का पेस्ट, पी...</td>\n    </tr>\n    <tr>\n      <th>7</th>\n      <td>cajun spiced turkey wrapped with bacon</td>\n      <td>vitamin_c</td>\n      <td>non-veg</td>\n      <td>555</td>\n      <td>turkey breast, cajun spice, spinach leaves (co...</td>\n    </tr>\n    <tr>\n      <th>8</th>\n      <td>seared salmon in tabasco butter</td>\n      <td>calcium</td>\n      <td>non-veg</td>\n      <td>265</td>\n      <td>butter, tabasco, chives, salt, salmon fillet, ...</td>\n    </tr>\n    <tr>\n      <th>9</th>\n      <td>risotto lobster with parmesan egg pancake, con...</td>\n      <td>vitamin_c</td>\n      <td>non-veg</td>\n      <td>455</td>\n      <td>lobster shell, carrot, leeks, garlic cloves, t...</td>\n    </tr>\n    <tr>\n      <th>10</th>\n      <td>fish with jamun sauce</td>\n      <td>vitamin_c</td>\n      <td>non-veg</td>\n      <td>560</td>\n      <td>jamun, sugar, chilli, garlic cloves (minced), ...</td>\n    </tr>\n    <tr>\n      <th>11</th>\n      <td>fish andlouse</td>\n      <td>vitamin_c</td>\n      <td>non-veg</td>\n      <td>255</td>\n      <td>white wine and water mix to cover, onion, salt...</td>\n    </tr>\n    <tr>\n      <th>19</th>\n      <td>chicken tikka masala</td>\n      <td>calcium</td>\n      <td>non-veg</td>\n      <td>355</td>\n      <td>d in a yogurt tomato sauce. creamy texture.</td>\n    </tr>\n    <tr>\n      <th>509</th>\n      <td>bhurji- egg</td>\n      <td>vitamin_a</td>\n      <td>non-veg</td>\n      <td>645</td>\n      <td>made using indian spices, onion, tomatoes, gre...</td>\n    </tr>\n    <tr>\n      <th>511</th>\n      <td>puffed rice</td>\n      <td>carbohydrates</td>\n      <td>veg</td>\n      <td>265</td>\n      <td>grain made from rice; usually made by heating ...</td>\n    </tr>\n  </tbody>\n</table>\n</div>"
     },
     "execution_count": 54,
     "metadata": {},
     "output_type": "execute_result"
    }
   ],
   "source": [
    "ob = Profile(['low_sodium_diet','low_fat_diet'],['diabeties'],\n",
    "             ['calcium','vitamin_c'],['non-veg'],'i love indian')\n",
    "\n",
    "profile = ob.get_profile()\n",
    "profile"
   ],
   "metadata": {
    "collapsed": false,
    "ExecuteTime": {
     "end_time": "2024-01-13T12:03:09.937915900Z",
     "start_time": "2024-01-13T12:03:09.859458200Z"
    }
   },
   "id": "b00b4116db9c1f2a"
  },
  {
   "cell_type": "code",
   "execution_count": null,
   "outputs": [],
   "source": [],
   "metadata": {
    "collapsed": false
   },
   "id": "e07f4953b5036064"
  }
 ],
 "metadata": {
  "kernelspec": {
   "display_name": "Python 3",
   "language": "python",
   "name": "python3"
  },
  "language_info": {
   "codemirror_mode": {
    "name": "ipython",
    "version": 2
   },
   "file_extension": ".py",
   "mimetype": "text/x-python",
   "name": "python",
   "nbconvert_exporter": "python",
   "pygments_lexer": "ipython2",
   "version": "2.7.6"
  }
 },
 "nbformat": 4,
 "nbformat_minor": 5
}
