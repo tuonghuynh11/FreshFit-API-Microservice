{
 "cells": [
  {
   "cell_type": "code",
   "execution_count": 20,
   "outputs": [],
   "source": [
    "import pandas as pd\n",
    "import numpy as np\n",
    "import sklearn\n",
    "from sklearn.neighbors import NearestNeighbors\n",
    "from collections import Counter\n",
    "\n",
    "import warnings\n",
    "warnings.filterwarnings('ignore')"
   ],
   "metadata": {
    "collapsed": false,
    "ExecuteTime": {
     "end_time": "2024-01-13T11:47:10.416474900Z",
     "start_time": "2024-01-13T11:47:10.414960800Z"
    }
   },
   "id": "6de9ecd3ee6bc8eb"
  },
  {
   "cell_type": "code",
   "execution_count": 24,
   "outputs": [],
   "source": [
    "class Recommender:\n",
    "    \n",
    "    def __init__(self,profiles,recent_activity,dataset):\n",
    "        self.df = dataset\n",
    "        self.profiles = profiles\n",
    "        self.recent_activity = recent_activity\n",
    "    \n",
    "    def get_features(self,dataframe):\n",
    "        #getting dummies of dataset\n",
    "        nutrient_dummies = dataframe.Nutrient.str.get_dummies()\n",
    "        disease_dummies = dataframe.Disease.str.get_dummies(sep=' ')\n",
    "        diet_dummies = dataframe.Diet.str.get_dummies(sep=' ')\n",
    "        feature_df = pd.concat([nutrient_dummies,disease_dummies,diet_dummies],axis=1)\n",
    "     \n",
    "        return feature_df\n",
    "    \n",
    "    def find_neighbors(self,dataframe,features,k):\n",
    "        features_df = self.get_features(dataframe)\n",
    "        total_features = features_df.columns  \n",
    "        d = dict()\n",
    "        for i in total_features:\n",
    "            d[i]= 0\n",
    "        for i in features:\n",
    "            d[i] = 1\n",
    "        final_input = list(d.values())\n",
    "        \n",
    "        similar_neighbors = self.k_neighbor([final_input],features_df,dataframe,k)\n",
    "        return similar_neighbors\n",
    "    \n",
    "    def k_neighbor(self,inputs,feature_df,dataframe,k):\n",
    "        \n",
    "        #initializing model with k neighbors\n",
    "        model = NearestNeighbors(n_neighbors=k,algorithm='ball_tree')\n",
    "        \n",
    "        # fitting model with dataset features\n",
    "        model.fit(feature_df)\n",
    "        \n",
    "        df_results = pd.DataFrame(columns=list(dataframe.columns))\n",
    "        \n",
    "        # getting distance and indices for k nearest neighbor\n",
    "        distnaces , indices = model.kneighbors(inputs)\n",
    "\n",
    "        for i in list(indices):\n",
    "            df_results = df_results._append(dataframe.loc[i])\n",
    "\n",
    "        df_results = df_results.reset_index(drop=True)\n",
    "        return df_results\n",
    "    \n",
    "    def user_based(self,features,user_id):\n",
    "       \n",
    "        similar_users = self.find_neighbors(self.profiles,features,10)\n",
    "        users = list(similar_users.User_Id)\n",
    "    \n",
    "        results = self.recent_activity[self.recent_activity.User_Id.isin(users)] #taking acitivies\n",
    "   \n",
    "        results = results[results['User_Id']!=user_id] # selecting those which are not reviewed by user\n",
    " \n",
    "        meals = list(results.Meal_Id.unique())\n",
    "      \n",
    "        results = self.df[self.df.Meal_Id.isin(meals)]\n",
    "    \n",
    "        results = results.filter(['Meal_Id','Name','Nutrient','Veg_Non','description','Price','Review'])\n",
    "\n",
    "        results = results.drop_duplicates(subset=['Name'])\n",
    "        results = results.reset_index(drop=True)\n",
    "        return results\n",
    "        \n",
    "    def recent_activity_based(self,user_id):\n",
    "        recent_df = self.recent_activity[self.recent_activity['User_Id']==user_id]\n",
    "        meal_ids = list(recent_df.Meal_Id.unique())\n",
    "        recent_data = self.df[self.df.Meal_Id.isin(meal_ids)][['Nutrient','catagory','Disease','Diet']].reset_index(drop=True)\n",
    "\n",
    "        disease = []\n",
    "        diet = []\n",
    "        for i in range(recent_data.shape[0]):\n",
    "            for j in recent_data.loc[i,'Disease'].split():\n",
    "                disease.append(j)\n",
    "        for i in range(recent_data.shape[0]):\n",
    "            for j in recent_data.loc[i,'Diet'].split():\n",
    "                diet.append(j)\n",
    "                \n",
    "        value_counts = recent_data.Nutrient.value_counts()\n",
    "        m = recent_data.Nutrient.value_counts().mean()\n",
    "        features = list(value_counts[recent_data.Nutrient.value_counts()>m].index)\n",
    "        a = dict(Counter(disease))\n",
    "        \n",
    "        m = np.mean(list(a.values()))\n",
    "        for i in a.items():\n",
    "            if i[1]>m:\n",
    "                features.append(i[0])\n",
    "        a = dict(Counter(diet))\n",
    "        m = np.mean(list(a.values()))\n",
    "        for i in a.items():\n",
    "            if i[1]>m:\n",
    "                features.append(i[0])\n",
    "                \n",
    "        similar_neighbors = self.find_neighbors(self.df,features,10)\n",
    "        return similar_neighbors.filter(['Meal_Id','Name','Nutrient','Veg_Non','description','Price','Review'])\n",
    "        \n",
    "    def recommend(self,user_id):\n",
    "        #finding user's profile features by id\n",
    "        profile = self.profiles[self.profiles['User_Id']==user_id]\n",
    "        features = []\n",
    "        features.append(profile['Nutrient'].values[0])\n",
    "        features.extend(profile['Disease'].values[0].split())\n",
    "        features.extend(profile['Diet'].values[0].split())\n",
    "        df1 = self.user_based(features,user_id)\n",
    " \n",
    "        df2 = self.recent_activity_based(user_id)\n",
    "        df = pd.concat([df1,df2])\n",
    "      \n",
    "        df = df.drop_duplicates('description').reset_index(drop=True)\n",
    "        return df"
   ],
   "metadata": {
    "collapsed": false,
    "ExecuteTime": {
     "end_time": "2024-01-13T11:48:02.958190700Z",
     "start_time": "2024-01-13T11:48:02.926463600Z"
    }
   },
   "id": "32b6cf494ca41ba7"
  },
  {
   "cell_type": "code",
   "execution_count": 25,
   "outputs": [
    {
     "data": {
      "text/plain": "       Meal_Id                                            Name       Nutrient  \\\n0    meal_id30  couscous with ratatouille - tangy tomato sauce       chloride   \n1    meal_id50                               belgian pork chop           iron   \n2    meal_id53                                  chocolate appo      magnesium   \n3    meal_id73                                   hot chocolate      magnesium   \n4   meal_id127          cajun spiced turkey wrapped with bacon      vitamin_c   \n5   meal_id223                                veg summer rolls  carbohydrates   \n6    meal_id68                                gajar halwa tart      vitamin_d   \n7   meal_id239                            homemade gulab jamun      vitamin_d   \n8    meal_id86               roast turkey with cranberry sauce       chloride   \n9   meal_id187                                 tricolour pizza         sodium   \n10   meal_id36                           spicy watermelon soup         sodium   \n11   meal_id26                                   almond pearls        protien   \n\n    Veg_Non                                        description Price  \n0       veg  for the cous cous:, plain couscous, extra virg...   220  \n1       veg  pork chop, pink pepper corn, green pepper corn...   215  \n2       veg  rice, coconut, baking powder, vanilla extract,...   340  \n3       veg  milk, chocolate, cocoa powder, powdered sugar,...   205  \n4   non-veg  turkey breast, cajun spice, spinach leaves (co...   555  \n5       veg  rice paper sheets, iceberg lettuce, carrot, be...   545  \n6       veg  white butter, breakfast sugar, milk full fat, ...   205  \n7       veg  sugar, water, milk, cardamom seeds, saffron, c...   445  \n8   non-veg  whole turkey, butter, onion, celery, crumbled ...   630  \n9       veg  pizza base , pizza sauce, mozzarella cheese, b...   380  \n10      veg  तरबूज, अदरक-लहसुन का पेस्ट, पुदीना, चिली फलेक्...   225  \n11      veg  toasted almonds, blueberries, oats, corn flake...   550  ",
      "text/html": "<div>\n<style scoped>\n    .dataframe tbody tr th:only-of-type {\n        vertical-align: middle;\n    }\n\n    .dataframe tbody tr th {\n        vertical-align: top;\n    }\n\n    .dataframe thead th {\n        text-align: right;\n    }\n</style>\n<table border=\"1\" class=\"dataframe\">\n  <thead>\n    <tr style=\"text-align: right;\">\n      <th></th>\n      <th>Meal_Id</th>\n      <th>Name</th>\n      <th>Nutrient</th>\n      <th>Veg_Non</th>\n      <th>description</th>\n      <th>Price</th>\n    </tr>\n  </thead>\n  <tbody>\n    <tr>\n      <th>0</th>\n      <td>meal_id30</td>\n      <td>couscous with ratatouille - tangy tomato sauce</td>\n      <td>chloride</td>\n      <td>veg</td>\n      <td>for the cous cous:, plain couscous, extra virg...</td>\n      <td>220</td>\n    </tr>\n    <tr>\n      <th>1</th>\n      <td>meal_id50</td>\n      <td>belgian pork chop</td>\n      <td>iron</td>\n      <td>veg</td>\n      <td>pork chop, pink pepper corn, green pepper corn...</td>\n      <td>215</td>\n    </tr>\n    <tr>\n      <th>2</th>\n      <td>meal_id53</td>\n      <td>chocolate appo</td>\n      <td>magnesium</td>\n      <td>veg</td>\n      <td>rice, coconut, baking powder, vanilla extract,...</td>\n      <td>340</td>\n    </tr>\n    <tr>\n      <th>3</th>\n      <td>meal_id73</td>\n      <td>hot chocolate</td>\n      <td>magnesium</td>\n      <td>veg</td>\n      <td>milk, chocolate, cocoa powder, powdered sugar,...</td>\n      <td>205</td>\n    </tr>\n    <tr>\n      <th>4</th>\n      <td>meal_id127</td>\n      <td>cajun spiced turkey wrapped with bacon</td>\n      <td>vitamin_c</td>\n      <td>non-veg</td>\n      <td>turkey breast, cajun spice, spinach leaves (co...</td>\n      <td>555</td>\n    </tr>\n    <tr>\n      <th>5</th>\n      <td>meal_id223</td>\n      <td>veg summer rolls</td>\n      <td>carbohydrates</td>\n      <td>veg</td>\n      <td>rice paper sheets, iceberg lettuce, carrot, be...</td>\n      <td>545</td>\n    </tr>\n    <tr>\n      <th>6</th>\n      <td>meal_id68</td>\n      <td>gajar halwa tart</td>\n      <td>vitamin_d</td>\n      <td>veg</td>\n      <td>white butter, breakfast sugar, milk full fat, ...</td>\n      <td>205</td>\n    </tr>\n    <tr>\n      <th>7</th>\n      <td>meal_id239</td>\n      <td>homemade gulab jamun</td>\n      <td>vitamin_d</td>\n      <td>veg</td>\n      <td>sugar, water, milk, cardamom seeds, saffron, c...</td>\n      <td>445</td>\n    </tr>\n    <tr>\n      <th>8</th>\n      <td>meal_id86</td>\n      <td>roast turkey with cranberry sauce</td>\n      <td>chloride</td>\n      <td>non-veg</td>\n      <td>whole turkey, butter, onion, celery, crumbled ...</td>\n      <td>630</td>\n    </tr>\n    <tr>\n      <th>9</th>\n      <td>meal_id187</td>\n      <td>tricolour pizza</td>\n      <td>sodium</td>\n      <td>veg</td>\n      <td>pizza base , pizza sauce, mozzarella cheese, b...</td>\n      <td>380</td>\n    </tr>\n    <tr>\n      <th>10</th>\n      <td>meal_id36</td>\n      <td>spicy watermelon soup</td>\n      <td>sodium</td>\n      <td>veg</td>\n      <td>तरबूज, अदरक-लहसुन का पेस्ट, पुदीना, चिली फलेक्...</td>\n      <td>225</td>\n    </tr>\n    <tr>\n      <th>11</th>\n      <td>meal_id26</td>\n      <td>almond pearls</td>\n      <td>protien</td>\n      <td>veg</td>\n      <td>toasted almonds, blueberries, oats, corn flake...</td>\n      <td>550</td>\n    </tr>\n  </tbody>\n</table>\n</div>"
     },
     "execution_count": 25,
     "metadata": {},
     "output_type": "execute_result"
    }
   ],
   "source": [
    "user_id = 'User_71'  # user id of current user\n",
    "\n",
    "profiles = pd.read_csv('user_Profiles.csv') # profiles of all users\n",
    "recent_activity = pd.read_csv('recent_activity.csv') # recent activities of current user (meals liked,rated,searched,Purchased)\n",
    "dataset = pd.read_csv('dataset.csv') # main dataset\n",
    "\n",
    "\n",
    "ob = Recommender(profiles,recent_activity,dataset)\n",
    "result = ob.recommend(user_id)\n",
    "result"
   ],
   "metadata": {
    "collapsed": false,
    "ExecuteTime": {
     "end_time": "2024-01-13T11:48:04.150355100Z",
     "start_time": "2024-01-13T11:48:04.052945200Z"
    }
   },
   "id": "da5bcc43e19d5d60"
  },
  {
   "cell_type": "code",
   "execution_count": null,
   "outputs": [],
   "source": [],
   "metadata": {
    "collapsed": false
   },
   "id": "78824e3b9b2fdd4e"
  }
 ],
 "metadata": {
  "kernelspec": {
   "display_name": "Python 3",
   "language": "python",
   "name": "python3"
  },
  "language_info": {
   "codemirror_mode": {
    "name": "ipython",
    "version": 2
   },
   "file_extension": ".py",
   "mimetype": "text/x-python",
   "name": "python",
   "nbconvert_exporter": "python",
   "pygments_lexer": "ipython2",
   "version": "2.7.6"
  }
 },
 "nbformat": 4,
 "nbformat_minor": 5
}
